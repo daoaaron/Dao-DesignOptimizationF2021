{
 "cells": [
  {
   "cell_type": "markdown",
   "id": "53f75620-050e-4d80-9224-b315d3612ab0",
   "metadata": {},
   "source": [
    "# Dao, Project 1: Gradient-based Algorithms and Differentiable Programming\n"
   ]
  },
  {
   "cell_type": "markdown",
   "id": "aea5b592-489c-46a5-82eb-8b1bf900e69e",
   "metadata": {},
   "source": [
    "## Problem Formulation.\n",
    "In this project, we consider the task of landing a rocket, whose state $x(t)$ is defined as $$x(t) = [d(t), v(t)]^T,$$ where $d(t)$ and $v(t)$ are the rocket's distance to the ground and velocity in the downward direction, respectively. The rocket is controlled by the input $a(t)$ such that its dynamics follow \n",
    "\n",
    "$$\n",
    "\\begin{aligned}\n",
    "d(t+1) = d(t) + v(t) \\Delta t, \\\\\n",
    "v(t+1) = v(t) + a(t) \\Delta t,\n",
    "\\end{aligned}\n",
    "$$\n",
    "\n",
    "with $\\Delta t$ being the discrete time interval. The controller input $a(t)$ is given as \n",
    "$$ a(t) = f_{\\theta}(x(t)) + Dv(t)^2 + g $$ \n",
    "where $f_{\\theta}(\\cdot)$ is a neural network with optimized parameters $\\theta$, $D$ a drag constant, and $g$ is the gravitational constant. Hence this simulation takes the assumption that the rocket is not only being acted upon by its own thrust, but also by drag and gravitational forces. \n",
    "\n",
    "*From the provided problem statement:*<br>\n",
    "For each time step, we assign a loss as a function of the control input and the state: $l(x(t),a(t))$. In this example, we will simply set $l(x(t),a(t))=0$ for all $t=1,...,T-1$, where $T$ is the final time step, and $$l(x(T),a(T)) = ||x(T)||^2 = d(T)^2 + v(T)^2.$$ This loss encourages the rocket to reach $d(T)=0$ and $v(T)=0$, which are proper landing conditions.\n",
    "\n",
    "The optimization problem is now formulated as\n",
    "\n",
    "$$\n",
    "\\begin{aligned}\n",
    "\\min_{\\theta} \\quad & ||x(T)||^2 \\\\\n",
    "\\quad & d(t+1) = d(t) + v(t) \\Delta t, \\\\\n",
    "\\quad & v(t+1) = v(t) + a(t) \\Delta t, \\\\\n",
    "\\quad & a(t) =  f_{\\theta}(x(t)) + Dv(t)^2 + g, ~\\forall t=1,...,T-1\n",
    "\\end{aligned}\n",
    "$$\n",
    "\n",
    "---\n",
    "## Programming the Simulation."
   ]
  },
  {
   "cell_type": "code",
   "execution_count": null,
   "id": "68ebd7c5-f5cd-4219-8ca9-33de383f2ad4",
   "metadata": {},
   "outputs": [],
   "source": [
    "# HOUSEKEEPIN' \n",
    "\n",
    "import logging\n",
    "import math\n",
    "import random\n",
    "import numpy as np\n",
    "import time\n",
    "import torch as t\n",
    "import torch.nn as nn\n",
    "from torch import optim\n",
    "from torch.nn import utils\n",
    "import matplotlib.pyplot as plt\n",
    "\n",
    "logger = logging.getLogger(__name__)\n",
    "\n",
    "# ENVIRO SETUP.\n",
    "FRAME_TIME = 0.1  # time interval\n",
    "GRAVITY_ACCEL = 0.12  # gravity constant\n",
    "BOOST_ACCEL = 0.18  # thrust constant"
   ]
  }
 ],
 "metadata": {
  "kernelspec": {
   "display_name": "Python 3",
   "language": "python",
   "name": "python3"
  },
  "language_info": {
   "codemirror_mode": {
    "name": "ipython",
    "version": 3
   },
   "file_extension": ".py",
   "mimetype": "text/x-python",
   "name": "python",
   "nbconvert_exporter": "python",
   "pygments_lexer": "ipython3",
   "version": "3.8.8"
  }
 },
 "nbformat": 4,
 "nbformat_minor": 5
}
