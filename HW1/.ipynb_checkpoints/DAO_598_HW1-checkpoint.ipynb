{
 "cells": [
  {
   "cell_type": "markdown",
   "id": "02b1413f",
   "metadata": {},
   "source": [
    "# <div align=\"center\"> MAE 598 Homework 1\n",
    "<div align=\"center\"> Aaron Dao"
   ]
  },
  {
   "cell_type": "markdown",
   "id": "32eb1d74",
   "metadata": {},
   "source": [
    "### Notes on Submission\n",
    "The progress and push history for this submission can be found in my test document, located in this [obselete repository][] under the *Homework* folder. \n",
    "    \n",
    "[obselete repository]: https://github.com/daoaaron/DesignOptimization2021Fall.git\n",
    "    "
   ]
  },
  {
   "cell_type": "markdown",
   "id": "9574891c",
   "metadata": {},
   "source": [
    "## Solution.\n",
    "\n",
    "Note that, based on techniques used in the scipy.optimize manual, the linear constraint for this optimization problem can be written as:\n",
    "$$\\begin{bmatrix} 0 \\\\ 0 \\\\ 0 \\end{bmatrix}  \\leq \\begin{bmatrix} 1 & 3 & 0 & 0 & 0 \\\\ 0 & 0 & 1 & 1 & -2 \\\\ 0 & 1 & 0 & 0 & -1 \\end{bmatrix}  \\leq \\begin{bmatrix} 0 \\\\ 0 \\\\ 0 \\end{bmatrix}$$\n",
    "\n",
    "For this, we use $x_0=\\begin{bmatrix}0.5&0.5&1&1&1\\end{bmatrix}^T$ as the initial guess."
   ]
  },
  {
   "cell_type": "code",
   "execution_count": 11,
   "id": "2b3e4c35",
   "metadata": {},
   "outputs": [
    {
     "name": "stdout",
     "output_type": "stream",
     "text": [
      "Optimization terminated successfully    (Exit mode 0)\n",
      "            Current function value: 4.093023255813954\n",
      "            Iterations: 4\n",
      "            Function evaluations: 26\n",
      "            Gradient evaluations: 4\n",
      "The solution:\n",
      "The optimal x is [-0.76744186  0.25581395  0.62790698 -0.11627907  0.25581395]\n",
      "The minimum value of the objective function is 4.093023255813954\n"
     ]
    }
   ],
   "source": [
    "# All our necessary libraries.\n",
    "\n",
    "import numpy as np\n",
    "from scipy.optimize import minimize\n",
    "from scipy.optimize import Bounds\n",
    "from scipy.optimize import LinearConstraint\n",
    "\n",
    "# Our objective function.\n",
    "def objf(x):  # note x is a 5-dimentional vector.\n",
    "    x1=x[0]\n",
    "    x2=x[1]\n",
    "    x3=x[2]\n",
    "    x4=x[3]\n",
    "    x5=x[4]\n",
    "\n",
    "    return (x1-x2)**2  +(x2+x3-2)**2 + (x4-1)**2 + (x5-1)**2 # what a function!\n",
    "\n",
    "\n",
    "# Bounds object.\n",
    "\n",
    "bounds = Bounds([-10, -10, -10, -10, -10],[10, 10, 10, 10, 10]) # all LOWER bounds and all UPPER bounds.\n",
    "\n",
    "# linear constraint!\n",
    "lin_con=LinearConstraint([[1,3,0,0,0],[0,0,1,1,-2],[0,1,0,0,-1]],[0,0,0],[0,0,0]) # by rows of the matrix.\n",
    "\n",
    "\n",
    "# TAKE A GUESS.\n",
    "x0=np.array([.5, .5, 1, 1, 1]) # this is a ROW.\n",
    "\n",
    "sol= minimize(objf,x0, method='SLSQP',constraints=lin_con,options={'disp':True}, bounds=bounds)\n",
    "\n",
    "\n",
    "# And finally,\n",
    "print('The solution:')\n",
    "opx=sol.x\n",
    "print(\"The optimal x is \"+str(opx))\n",
    "print(\"The minimum value of the objective function is \"+str(sol.fun))\n"
   ]
  },
  {
   "cell_type": "markdown",
   "id": "bf058c3a",
   "metadata": {},
   "source": [
    "### Changing the initial guess.\n",
    "\n",
    "Now, we use $x_0=\\begin{bmatrix}0.5&25&1&0&1\\end{bmatrix}^T$ as the initial guess to see if it will change the optimal value of $x$."
   ]
  },
  {
   "cell_type": "code",
   "execution_count": 12,
   "id": "03d49171",
   "metadata": {},
   "outputs": [
    {
     "name": "stdout",
     "output_type": "stream",
     "text": [
      "Optimization terminated successfully    (Exit mode 0)\n",
      "            Current function value: 4.0930232558168465\n",
      "            Iterations: 6\n",
      "            Function evaluations: 37\n",
      "            Gradient evaluations: 6\n",
      "The solution:\n",
      "The optimal x is [-0.76744159  0.25581386  0.62790577 -0.11627804  0.25581386]\n",
      "The minimum value of the objective function is 4.0930232558168465\n"
     ]
    }
   ],
   "source": [
    "x0=np.array([.5, 25, 1, 0, 1]) \n",
    "sol= minimize(objf,x0, method='SLSQP',constraints=lin_con,options={'disp':True}, bounds=bounds)\n",
    "\n",
    "print('The solution:')\n",
    "opx=sol.x\n",
    "print(\"The optimal x is \"+str(opx))\n",
    "print(\"The minimum value of the objective function is \"+str(sol.fun))"
   ]
  },
  {
   "cell_type": "markdown",
   "id": "96618563",
   "metadata": {},
   "source": [
    "Based on the results above, the optimal $x$ **does not change** even if the inital guess does."
   ]
  }
 ],
 "metadata": {
  "kernelspec": {
   "display_name": "Python 3",
   "language": "python",
   "name": "python3"
  },
  "language_info": {
   "codemirror_mode": {
    "name": "ipython",
    "version": 3
   },
   "file_extension": ".py",
   "mimetype": "text/x-python",
   "name": "python",
   "nbconvert_exporter": "python",
   "pygments_lexer": "ipython3",
   "version": "3.8.8"
  }
 },
 "nbformat": 4,
 "nbformat_minor": 5
}
