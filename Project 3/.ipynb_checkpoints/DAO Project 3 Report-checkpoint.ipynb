{
 "cells": [
  {
   "cell_type": "markdown",
   "id": "dc9fe6c7-84b5-4a91-8036-a246ec2a8a50",
   "metadata": {},
   "source": [
    "## Aaron Dao. MAE 598 Project 3 Report\n",
    "<img src=\"testAnimated.gif\" alt=\"Drawing\" style=\"height: 200px;\"/>"
   ]
  },
  {
   "cell_type": "markdown",
   "id": "9cde8cd4-c3e4-441b-bca6-11d012824ca0",
   "metadata": {},
   "source": [
    "In this project, we use Dr. Sigmund's original \"top99\" code to explore the evolution of mass density in a support beam as a downward load is placed in varying locations on its top edge.\n",
    "\n",
    "The mass density is calculated by optimizing the structure's stiffness by solving the following optimization problem:\n",
    "\n",
    "$$ \\min_{\\bf x} \\quad {\\bf f} := {\\bf d}^T {\\bf K}({\\bf x}) {\\bf d} $$\n",
    "\n",
    "$$ \\text{subject to:} \\quad {\\bf h} := {\\bf K}({\\bf x}) {\\bf d} = {\\bf u}, $$\n",
    "\n",
    "$$ \\quad {\\bf g} := V(\\textbf{x}) \\leq v,$$\n",
    "\n",
    "$$ \\textbf{x} \\in [0,1]. $$\n"
   ]
  }
 ],
 "metadata": {
  "kernelspec": {
   "display_name": "Python 3",
   "language": "python",
   "name": "python3"
  },
  "language_info": {
   "codemirror_mode": {
    "name": "ipython",
    "version": 3
   },
   "file_extension": ".py",
   "mimetype": "text/x-python",
   "name": "python",
   "nbconvert_exporter": "python",
   "pygments_lexer": "ipython3",
   "version": "3.8.8"
  }
 },
 "nbformat": 4,
 "nbformat_minor": 5
}
