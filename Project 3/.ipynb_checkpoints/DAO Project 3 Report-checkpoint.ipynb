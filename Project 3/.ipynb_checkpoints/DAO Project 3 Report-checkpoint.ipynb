{
 "cells": [
  {
   "cell_type": "markdown",
   "id": "dc9fe6c7-84b5-4a91-8036-a246ec2a8a50",
   "metadata": {},
   "source": [
    "## Aaron Dao. MAE 598 Project 3 Report\n"
   ]
  },
  {
   "cell_type": "markdown",
   "id": "04fb1879-53de-4f50-9164-65e3fc0cad2f",
   "metadata": {},
   "source": [
    "In this project, we use Dr. Sigmund's original \"top99\" code to explore the evolution of mass density in a support beam as a downward load is placed in varying locations on its top edge.\n",
    "\n",
    "The mass density $x$ is calculated by optimizing the structure's stiffness by solving the following optimization problem:\n",
    "\n",
    "$$ \\min_{\\bf x} \\quad {\\bf f} := {\\bf d}^T {\\bf K}({\\bf x}) {\\bf d} $$\n",
    "\n",
    "$$ \\text{subject to:} \\quad {\\bf h} := {\\bf K}({\\bf x}) {\\bf d} = {\\bf u}, $$\n",
    "\n",
    "$$ \\quad {\\bf g} := V(\\textbf{x}) \\leq v,$$\n",
    "\n",
    "$$ \\textbf{x} \\in [0,1]. $$\n",
    "\n",
    "From the provided problem statement, we detail the definitions of each varaible:  \n",
    "\n",
    "\"$V(\\textbf{x})$ is the total volume; $v$ is an upper bound on volume; \n",
    "${\\bf d} \\in \\mathbb{R}^{n_d\\times 1}$ is the displacement of the structure under the load ${\\bf u}$, \n",
    "where $n_d$ is the degrees of freedom (DOF) of the system (i.e., the number of x- and y-coordinates \n",
    "of nodes from the finite element model of the structure); ${\\bf K(x)}$ is the global stiffness matrix for the structure.\"\n",
    "\n",
    "### System Definition\n",
    "\n",
    "For this rectangular shape under loading, we constrain the nodes leftmost edge in the $x$ and $y$ directions, and then constrain a node in the $y$-direction at the bottom edge approximately two-thirds the total distance from the bottom left corner. This will allow us to witness more interesting results as we sweep the downward load across the top edge.\n",
    "\n",
    "### Implementation\n",
    "\n",
    "We modify the MATLAB function top88.m, which is a modified version of top99.m created by the class professor, to take as an input the location at which the load is applied. This location is constrained to sweep across the nodes in the top edge of the structure. Implementing this allows us to visualize the optimal distribution of mass in the structure as the load moves across the top edge.   \n",
    "\n",
    "The attached MATLAB code **\"topsolve.m\"** implements the sequence described above. Below, the GIF animation below illustrates our findings.\n",
    "\n",
    "<img src=\"testAnimated.gif\" alt=\"Drawing\" style=\"height: 200px;\"/>\n",
    "\n",
    "### Discussion\n",
    "\n",
    "The system behaves as expected for most of the given locations of the downward force. However, it is interesting to note the mass distribution when the load is directly on top of the $y$-constrained node on the bottom edge. The mass centers around a line connecting the load location and the support location. This does make sense upon further scrutiny; if the load and support are directly in-line, there is no need for the leftmost-edge supports, and thus little to no mass is used in the area to the right of the force-support line."
   ]
  }
 ],
 "metadata": {
  "kernelspec": {
   "display_name": "Python 3",
   "language": "python",
   "name": "python3"
  },
  "language_info": {
   "codemirror_mode": {
    "name": "ipython",
    "version": 3
   },
   "file_extension": ".py",
   "mimetype": "text/x-python",
   "name": "python",
   "nbconvert_exporter": "python",
   "pygments_lexer": "ipython3",
   "version": "3.8.8"
  }
 },
 "nbformat": 4,
 "nbformat_minor": 5
}
