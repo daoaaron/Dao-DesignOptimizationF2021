{
 "cells": [
  {
   "cell_type": "markdown",
   "id": "53f75620-050e-4d80-9224-b315d3612ab0",
   "metadata": {},
   "source": [
    "# Dao, Project 1: Gradient-based Algorithms and Differentiable Programming\n",
    "Project Submission."
   ]
  }
 ],
 "metadata": {
  "kernelspec": {
   "display_name": "Python 3",
   "language": "python",
   "name": "python3"
  },
  "language_info": {
   "codemirror_mode": {
    "name": "ipython",
    "version": 3
   },
   "file_extension": ".py",
   "mimetype": "text/x-python",
   "name": "python",
   "nbconvert_exporter": "python",
   "pygments_lexer": "ipython3",
   "version": "3.8.8"
  }
 },
 "nbformat": 4,
 "nbformat_minor": 5
}
