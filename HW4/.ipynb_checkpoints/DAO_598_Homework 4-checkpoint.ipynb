{
 "cells": [
  {
   "cell_type": "markdown",
   "id": "f9390e5d-d5e1-4689-9d1c-22ce5c818957",
   "metadata": {},
   "source": [
    "## Aaron Dao. MAE 598 Homework 4.\n",
    "### Problem 1 (10 Points)\n",
    "\n",
    "Sketch graphically the problem \n",
    "\n",
    "$$\n",
    "\\begin{aligned}\n",
    "\\min_{x_1,x_2} & \\quad f({\\bf x})=(x_1+1)^2+(x_2-2)^2\\\\\n",
    "{\\text{subject to }} & \\quad g_1 = x_1-2\\leq 0,{\\quad} g_3 = -x_1\\leq 0,\\\\\n",
    "& \\quad g_2 = x_2-1\\leq 0, {\\quad} g_4 = -x_2\\leq 0.\n",
    "\\end{aligned}\n",
    "$$\n",
    "\n",
    "\n",
    "* (a) Find the optimum graphically.\n",
    "* (b) Determine directions of feasible descent at the corner points of the feasible domain. \n",
    "* (c) Show the gradient directions of $f$ and $g_i$s at these points. \n",
    "* (d) Verify graphical results analytically using the KKT conditions.\n",
    "\n",
    "**Solution**\n",
    "\n",
    "The optimum is located, graphically, at (0,1) at point A. In all of the corner points except for A, the direction of feasible descent is shown by the $\\vec{fd}$ vector, and the gradient directions of $f$ and $g_i$ are also shown and labeled.\n",
    "![batman](598problem_1.jpg)\n",
    "\n",
    "Verification with KKT conditions:<br>\n",
    "$$L=(x_1+1)^2+(x_2-2)^2+\\mu_1(x_1-2)+\\mu_2(x_2-1)+\\mu_3(-x_1)+\\mu_4(-x_2)$$\n",
    "$$\\frac{\\partial L}{\\partial x}=\\begin{bmatrix} 2(x_1+1)+\\mu_1-\\mu_3 \\\\ 2(x_2-2)+\\mu_2+\\mu_4 \\end{bmatrix}= \\begin{bmatrix} 0 \\\\ 0 \\end{bmatrix}$$\n",
    "\n",
    "If we guess that $g_2, g_3$ are active, then $\\mu_2, \\mu_3 >0$ and $\\mu_1,\\mu_4 =0$. Thus\n",
    "$$\\begin{aligned} x_1=0, &\\quad x_2=1, \\\\ 2x_1+2-\\mu_3=0, &\\quad 2x_2-4+\\mu_2=0 \\\\ \\mu_3=2, &\\quad \\mu_2=2 \\end{aligned}$$\n",
    "\n",
    "Since $\\mu_2,\\mu_3 >0,$ this satisfies the KKT conditions.\n",
    "\n"
   ]
  },
  {
   "cell_type": "markdown",
   "id": "33f11aba-6f08-4038-b6b5-e5ff04545847",
   "metadata": {},
   "source": [
    "---\n",
    "### Problem 2 (10 Points)\n",
    "\n",
    "Graph the problem \n",
    "\n",
    "$$\n",
    "\\begin{aligned}\n",
    "\\min_{x_1,x_2} & \\quad  f=-x_1\\\\\n",
    "{\\text{subject to }} & \\quad g_1=x_2-(1-x_1)^3\\leq 0{\\quad} {\\rm and}{\\quad} x_2\\geq 0.\n",
    "\\end{aligned}\n",
    "$$ \n",
    "\n",
    "Find the solution graphically. Then apply the optimality conditions. Can you find a solution based on the optimality conditions? Why? (From Kuhn and Tucker, 1951.)"
   ]
  },
  {
   "cell_type": "markdown",
   "id": "ffef5f35-7431-420e-b813-6320430d4edf",
   "metadata": {},
   "source": [
    "---\n",
    "### Problem 3 (30 Points)\n",
    "\n",
    "Find a local solution to the problem \n",
    "\n",
    "$$\n",
    "\\begin{aligned}\n",
    "\\min_{x_1,x_2,x_3} & \\quad  f=x_1x_2+x_2x_3+x_1x_3\\\\\n",
    "{\\text{subject to }} & \\quad h=x_1+x_2+x_3-3=0.\n",
    "\\end{aligned}\n",
    "$$ \n",
    "\n",
    "Use two methods: reduced gradient and Lagrange multipliers."
   ]
  },
  {
   "cell_type": "markdown",
   "id": "fbeca945-7ae0-4d24-9a90-dad84d1061f2",
   "metadata": {},
   "source": [
    "---\n",
    "### Problem 4 (20 Points)\n",
    "\n",
    "Use reduced gradient to\tfind the value(s) of the parameter $b$ for which the point $x_1=1$, $x_2=2$ is the solution to the problem \n",
    "\n",
    "$$\n",
    "\\begin{aligned}\n",
    "\\min_{x_1,x_2} & \\quad  f=2x_{1} + bx_2\\\\\n",
    "{\\text{subject to }} & \\quad g_1 = x_{1}^{2}+ x_{2}^{2}-5\\leq 0\\\\\n",
    "& \\quad g_2= x_1- x_2-2\\leq 0.\n",
    "\\end{aligned}\n",
    "$$ "
   ]
  },
  {
   "cell_type": "markdown",
   "id": "d6a74511-2512-4ea0-80d4-31af9691a07b",
   "metadata": {},
   "source": [
    "---\n",
    "### Problem 5 (30 Points)\n",
    "\n",
    "Find the solution for \n",
    "\n",
    "$$\n",
    "\\begin{aligned}\n",
    "\\min_{x_1,x_2,x_3} & \\quad  f=x_{1}^{2}+x_{2}^{2}+x_{3}^{2}\\\\\n",
    "{\\text{subject to }} & \\quad h_1 = x_{1}^{2}/4+x_{2}^{2}/5+x_{3}^{2}/25-1=0\\\\\n",
    "& \\quad h_2 = x_1+x_2-x_3= 0,\n",
    "\\end{aligned}\n",
    "$$ \n",
    "\n",
    "by implementing the generalized reduced gradient algorithm."
   ]
  }
 ],
 "metadata": {
  "kernelspec": {
   "display_name": "Python 3",
   "language": "python",
   "name": "python3"
  },
  "language_info": {
   "codemirror_mode": {
    "name": "ipython",
    "version": 3
   },
   "file_extension": ".py",
   "mimetype": "text/x-python",
   "name": "python",
   "nbconvert_exporter": "python",
   "pygments_lexer": "ipython3",
   "version": "3.8.8"
  }
 },
 "nbformat": 4,
 "nbformat_minor": 5
}
