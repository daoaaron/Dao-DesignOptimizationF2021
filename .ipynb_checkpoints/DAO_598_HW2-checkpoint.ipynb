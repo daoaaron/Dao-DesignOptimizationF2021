{
 "cells": [
  {
   "cell_type": "markdown",
   "id": "cce950d0",
   "metadata": {},
   "source": [
    "# <div align=\"center\"> MAE 598 Homework 2\n",
    "<div align=\"center\"> Aaron Dao"
   ]
  },
  {
   "cell_type": "markdown",
   "id": "981aa30c-be5e-46e2-b663-316ac23c9d72",
   "metadata": {},
   "source": [
    "# Theory/Computation Problems\n",
    "\n",
    "### Problem 1 (20 points) \n",
    "**a.** Show that the stationary point (zero gradient) of the function\n",
    "$$\n",
    "    f=2x_{1}^{2} - 4x_1 x_2+ 1.5x^{2}_{2}+ x_2\n",
    "$$\n",
    "is a saddle (with indefinite Hessian). \n",
    "\n",
    "**b.** Find the directions of downslopes away from the saddle. Hint: Use Taylor's expansion at the saddle point. Find directions that reduce $f$."
   ]
  },
  {
   "cell_type": "markdown",
   "id": "7b738039-a2a0-4646-86e7-a6d1613fc766",
   "metadata": {},
   "source": [
    "#### Solution.\n",
    "##### A.\n",
    "The gradient is $$ g= \\begin{bmatrix} \\frac{\\partial f}{\\partial x_1} \\\\ \\frac{\\partial f}{\\partial x_2}  \\end{bmatrix}$$ \n",
    "\n",
    "$$ g= \\begin{bmatrix} 4x_1-4x_2 \\\\ -4x_1+3x_2+1 \\end{bmatrix}$$\n",
    "To find the stationary point, solve: $$\\left[\\begin{array}{cc|c} 4 & -4 & 0 \\\\ -4 & 3 & -1 \\end{array}\\right]$$ which gives $(x_1, x_2)=(1,1)$.\n",
    "\n",
    "The Hessian is \n"
   ]
  },
  {
   "cell_type": "code",
   "execution_count": 7,
   "id": "5854ba62-1600-4a87-8ced-3837f19a07ee",
   "metadata": {},
   "outputs": [
    {
     "name": "stdout",
     "output_type": "stream",
     "text": [
      "[[ 4 -4]\n",
      " [-4  3]]\n"
     ]
    }
   ],
   "source": [
    "import numpy as np\n",
    "from numpy import linalg as LA\n",
    "H= np.array([[4, -4],[-4, 3]])\n",
    "print(H)"
   ]
  },
  {
   "cell_type": "markdown",
   "id": "91c4fcae-0ef3-4570-9ad2-f87f578b5aae",
   "metadata": {},
   "source": [
    "And the eigenvalues are given by:"
   ]
  },
  {
   "cell_type": "code",
   "execution_count": 13,
   "id": "ec18a849-7253-4564-9dbc-e82af38c8ba5",
   "metadata": {},
   "outputs": [
    {
     "name": "stdout",
     "output_type": "stream",
     "text": [
      "[ 7.53112887 -0.53112887]\n"
     ]
    }
   ],
   "source": [
    "w, v = LA.eig(H)\n",
    "print(w)"
   ]
  },
  {
   "cell_type": "markdown",
   "id": "e40193b5-cc3b-4350-86b6-1189994f210e",
   "metadata": {},
   "source": [
    "Thus, since $\\lambda_1\\gt0$ and $\\lambda_2\\lt0$, the Hessian is **indefinite**.  "
   ]
  },
  {
   "cell_type": "markdown",
   "id": "d6dbe9bf-3d58-4d1d-85c7-3b5cc91b969a",
   "metadata": {},
   "source": [
    "##### B.\n",
    "The Taylor's Expansion at the saddle is given as $$f(x)= 0.5 + (0) + \\frac{1}{2}\\begin{bmatrix} x_1 & x_2 \\end{bmatrix}\\begin{bmatrix}4 & -4 \\\\\\ -4 & 3\\end{bmatrix}\\begin{bmatrix}x_1 \\\\\\ x_2 \\end{bmatrix}$$ where $$\\begin{bmatrix} x_1 & x_2 \\end{bmatrix}\\begin{bmatrix}4 & -4 \\\\\\ -4 & 3\\end{bmatrix}\\begin{bmatrix}x_1 \\\\\\ x_2 \\end{bmatrix} = 4x_1^2 -8x_1 x_2 + 3x_2^2$$ must be $\\lt0$.\n",
    "Thus the directions of downslopes are $$\\bigg\\{ \\begin{bmatrix}x_1 \\\\\\ x_2 \\end{bmatrix} \\forall x_1, x_2:4x_1^2 -8x_1 x_2 + 3x_2^2\\lt0 \\bigg\\}$$\n"
   ]
  },
  {
   "cell_type": "markdown",
   "id": "844e2e1d-9e53-4df1-bbf8-4a7fc6fd2978",
   "metadata": {},
   "source": [
    "### Problem 2 (50 points) \n",
    "\n",
    "* (10 points) Find the point in the plane $x_1+2x_2+3x_3=1$ in $\\mathbb{R}^3$ that is nearest to the point $(-1,0,1)^T$. Is this a convex problem? Hint: Convert the problem into an unconstrained problem using $x_1+2x_2+3x_3=1$.\n",
    "\n",
    "* (40 points) Implement the gradient descent and Newton's algorithm for solving the problem. Attach your codes along with a short summary including (1) the initial points tested, (2) corresponding solutions, (3) a log-linear convergence plot."
   ]
  },
  {
   "cell_type": "markdown",
   "id": "09acf326-8ae8-4e2d-95bc-baff3dbc514f",
   "metadata": {},
   "source": [
    "### Problem 3 (10 points) \n",
    "Let $f(x)$ and $g(x)$ be two convex functions defined on the convex set $\\mathcal{X}$. \n",
    "* (5 points) Prove that $af(x)+bg(x)$ is convex for $a>0$ and $b>0$. \n",
    "* (5 points) In what conditions will $f(g(x))$ be convex?"
   ]
  },
  {
   "cell_type": "markdown",
   "id": "765136d3-020e-4b8b-bd90-c5109cd95c98",
   "metadata": {},
   "source": [
    "### Problem 4 (bonus 10 points)\n",
    "Show that $f({\\bf x}_1) \\geq f(\\textbf{x}_0) + \n",
    "    \\textbf{g}_{\\textbf{x}_0}^T(\\textbf{x}_1-\\textbf{x}_0)$ for a convex function $f(\\textbf{x}): \\mathcal{X} \\rightarrow \\mathbb{R}$ and for $\\textbf{x}_0$, $\\textbf{x}_1 \\in \\mathcal{X}$. "
   ]
  },
  {
   "cell_type": "markdown",
   "id": "collected-carbon",
   "metadata": {},
   "source": [
    "# Design Problems\n",
    "\n",
    "### Problem 5 (20 points) \n",
    "Consider an illumination problem: There are $n$ lamps and $m$ mirrors fixed to the ground. The target reflection intensity level is $I_t$. The actual reflection intensity level on the $k$th mirror can be computed as $\\textbf{a}_k^T \\textbf{p}$, where $\\textbf{a}_k$ is given by the distances between all lamps to the mirror, and $\\textbf{p}:=[p_1,...,p_n]^T$ are the power output of the lamps. The objective is to keep the actual intensity levels as close to the target as possible by tuning the power output $\\textbf{p}$.\n",
    "\n",
    "* (5 points) Formulate this problem as an optimization problem. \n",
    "* (5 points) Is your problem convex?\n",
    "* (5 points) If we require the overall power output of any of the $n$ lamps to be less than $p^*$, will the problem have a unique solution?  **Yes, it will as it is now a convex optimization problem.**\n",
    "* (5 points) If we require no more than half of the lamps to be switched on, will the problem have a unique solution? **No, it will not. The problem is now np-hard.**"
   ]
  },
  {
   "cell_type": "markdown",
   "id": "moderate-twins",
   "metadata": {},
   "source": [
    "# Note\n",
    "\n",
    "For this homework, you may want to attach sketches as means to explain your ideas. Here is how you can attach images.\n",
    "\n",
    "![batman](batman.jpg)"
   ]
  }
 ],
 "metadata": {
  "kernelspec": {
   "display_name": "Python 3",
   "language": "python",
   "name": "python3"
  },
  "language_info": {
   "codemirror_mode": {
    "name": "ipython",
    "version": 3
   },
   "file_extension": ".py",
   "mimetype": "text/x-python",
   "name": "python",
   "nbconvert_exporter": "python",
   "pygments_lexer": "ipython3",
   "version": "3.8.8"
  }
 },
 "nbformat": 4,
 "nbformat_minor": 5
}
